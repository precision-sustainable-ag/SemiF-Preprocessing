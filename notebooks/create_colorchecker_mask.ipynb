{
 "cells": [
  {
   "cell_type": "code",
   "execution_count": null,
   "metadata": {},
   "outputs": [],
   "source": [
    "#https://plantcv.readthedocs.io/en/v3.2.0/transform_color_correction_tutorial/#creating-masks\n",
    "from plantcv import plantcv as pcv\n",
    "import cv2\n",
    "import numpy as np\n",
    "import matplotlib.pyplot as plt\n",
    "pcv.params.debug = \"plot\""
   ]
  },
  {
   "cell_type": "code",
   "execution_count": null,
   "metadata": {},
   "outputs": [],
   "source": [
    "\n",
    "img = cv2.imread(\"../data/results/NC_2024-11-12/NC_1731435477_16bit.png\") #read in img\n",
    "pcv.plot_image(img)"
   ]
  },
  {
   "cell_type": "code",
   "execution_count": null,
   "metadata": {},
   "outputs": [],
   "source": [
    "#Using the pixel coordinate on the plotted image, designate a region of interest for an n x n pixel region in each color chip.\n",
    "\n",
    "dimensions = [75,75]  #pixel ROI dimensions\n",
    "\n",
    "chips = []\n",
    "#Declare first row:\n",
    "chips.append(pcv.roi.rectangle(img=img, x=10186, y = 5701, w = dimensions[0], h = dimensions[1])) #white\n",
    "# chips.append(pcv.roi.rectangle(img=img, x= 10435 , y= 5380 , w = dimensions[0], h = dimensions[1]))#blue\n",
    "# chips.append(pcv.roi.rectangle(img=img, x= 10435 , y= 5520 , w = dimensions[0], h = dimensions[1]))#orange\n",
    "# chips.append(pcv.roi.rectangle(img=img, x= 10415 , y= 5700 , w = dimensions[0], h = dimensions[1]))#brown\n",
    "\n"
   ]
  },
  {
   "cell_type": "code",
   "execution_count": null,
   "metadata": {},
   "outputs": [],
   "source": [
    "\n",
    "#declare y_shift\n",
    "x_shift = 150\n",
    "\n",
    "#declare number of total rows\n",
    "row_total = 2\n",
    "\n",
    "#declare all other rows\n",
    "for i in range(1, row_total):\n",
    "    chips.append(pcv.roi.rectangle(img=img, x=10425 - i*(x_shift), y = 5225 , w = dimensions[0], h = dimensions[1]))\n",
    "    chips.append(pcv.roi.rectangle(img=img, x= 10435 - i*(x_shift) , y= 5380 , w = dimensions[0], h = dimensions[1]))\n",
    "    chips.append(pcv.roi.rectangle(img=img, x= 10435 - i*(x_shift) , y= 5520 , w = dimensions[0], h = dimensions[1]))\n",
    "    chips.append(pcv.roi.rectangle(img=img, x= 10415 - i*(x_shift) , y= 5700 , w = dimensions[0], h = dimensions[1]))"
   ]
  }
 ],
 "metadata": {
  "kernelspec": {
   "display_name": "semif_py311",
   "language": "python",
   "name": "python3"
  },
  "language_info": {
   "codemirror_mode": {
    "name": "ipython",
    "version": 3
   },
   "file_extension": ".py",
   "mimetype": "text/x-python",
   "name": "python",
   "nbconvert_exporter": "python",
   "pygments_lexer": "ipython3",
   "version": "3.11.10"
  }
 },
 "nbformat": 4,
 "nbformat_minor": 2
}
